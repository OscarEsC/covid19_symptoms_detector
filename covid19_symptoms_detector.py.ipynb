{
 "cells": [
  {
   "cell_type": "code",
   "execution_count": 4,
   "metadata": {},
   "outputs": [],
   "source": [
    "# Headers\n",
    "import numpy as np\n",
    "import nibabel as nib\n",
    "import matplotlib.pyplot as plt\n",
    "from copy import deepcopy\n",
    "from skimage.feature import greycomatrix, greycoprops\n",
    "import cv2  \n",
    "from numpy.linalg import det\n",
    "from skimage import util, exposure\n",
    "from math import sqrt, ceil\n",
    "from skimage.segmentation import slic\n",
    "from skimage.segmentation import mark_boundaries\n",
    "from skimage.util import img_as_float\n",
    "from skimage import io"
   ]
  },
  {
   "cell_type": "code",
   "execution_count": 5,
   "metadata": {},
   "outputs": [],
   "source": [
    "# global variables\n",
    "black_value = np.float64(-1408.5106382978724)\n",
    "images_filename = 'tr_im.nii'\n",
    "masks_filename = 'tr_mask.nii'"
   ]
  },
  {
   "cell_type": "code",
   "execution_count": 6,
   "metadata": {},
   "outputs": [],
   "source": [
    "def get_vals(mask):\n",
    "    vals = []\n",
    "    x, y = mask.shape\n",
    "    for i in range(x):\n",
    "        for j in range(y):\n",
    "            if mask[i,j] not in vals:\n",
    "                vals.append(mask[i][j])\n",
    "\n",
    "    vals.remove(0)\n",
    "    return vals"
   ]
  },
  {
   "cell_type": "code",
   "execution_count": 7,
   "metadata": {},
   "outputs": [],
   "source": [
    "def apply_mask(img, mask, class_id):\n",
    "    heigh, width = img.shape\n",
    "    tmp = deepcopy(img)\n",
    "    lineal_array = np.array(0)\n",
    "    for x in range(heigh):\n",
    "        for y in range(width):\n",
    "            # Set pixel as black color if is not inside this mask\n",
    "            if mask[x,y] != np.float64(class_id):\n",
    "                tmp[x,y] = black_value\n",
    "            # Count pixels inside this mask\n",
    "            else:\n",
    "                lineal_array = np.append(lineal_array, tmp[x,y])\n",
    "    # In tmp is saved the image with mask applied\n",
    "    # In lineal_array is saved just the mask's pixels\n",
    "    lineal_array = np.delete(lineal_array, 0)\n",
    "    return tmp, lineal_to_matrix(lineal_array)"
   ]
  },
  {
   "cell_type": "code",
   "execution_count": 8,
   "metadata": {},
   "outputs": [],
   "source": [
    "def calculate_media_lineal_arr(array):\n",
    "    length = array.shape[0]\n",
    "    media = np.float64(0)\n",
    "    for x in range(length):\n",
    "        media += array[x]\n",
    "    media = media/length\n",
    "    return media"
   ]
  },
  {
   "cell_type": "code",
   "execution_count": 9,
   "metadata": {},
   "outputs": [],
   "source": [
    "def lineal_to_matrix(lineal_array):\n",
    "    sqrt_ = ceil(sqrt(lineal_array.shape[0]))\n",
    "    media = calculate_media_lineal_arr(lineal_array)\n",
    "    missing_values = sqrt_**2 - lineal_array.shape[0]\n",
    "    # Complete square matrix\n",
    "    for x in range(missing_values):\n",
    "        lineal_array = np.append(lineal_array, media)\n",
    "    \n",
    "    return lineal_array.reshape([sqrt_, sqrt_])"
   ]
  },
  {
   "cell_type": "code",
   "execution_count": 10,
   "metadata": {},
   "outputs": [],
   "source": [
    "def show_slice_mask(slicei, mask):\n",
    "    \"\"\" Function to display images and mask \"\"\"\n",
    "    fig, ax = plt.subplots(1,2)\n",
    "    ax[0].imshow(slicei.T,  cmap=\"gray\", origin=\"lower\")\n",
    "    ax[0].set_title('Image')\n",
    "    ax[1].imshow(mask.T, cmap=\"gray\", origin=\"lower\")\n",
    "    ax[1].set_title('Mask')\n",
    "    plt.show()"
   ]
  },
  {
   "cell_type": "code",
   "execution_count": 11,
   "metadata": {},
   "outputs": [],
   "source": [
    "def glcm_properties(image):\n",
    "    distancias = [1,2,3]\n",
    "    #0 -> Oeste a este, np.pi/4 -> diagonal hacia abajo, np.pi/2 -> Norte a sur\n",
    "    angulos = [0, np.pi/4, np.pi/2]\n",
    "\n",
    "    # Calculate properties for just one superpixel using the\n",
    "    # respective mask  \n",
    "    glcm = greycomatrix(image, \n",
    "                        distances = distancias, \n",
    "                        angles = angulos,\n",
    "                        symmetric=True, \n",
    "                        normed=True)\n",
    "    energyResults = greycoprops(glcm, 'energy')\n",
    "    #homogeneityResults = greycoprops(glcm, 'homogeneity')\n",
    "    contrastResults = greycoprops(glcm, 'contrast')\n",
    "    correlationResults = greycoprops(glcm, 'correlation')\n",
    "    #dissimilarityResults = greycoprops(glcm, 'dissimilarity')\n",
    "    \n",
    "    return [contrastResults, correlationResults, energyResults]"
   ]
  },
  {
   "cell_type": "code",
   "execution_count": 32,
   "metadata": {},
   "outputs": [],
   "source": [
    "def training(imgs, masks):\n",
    "    height, width, num_images = imgs.shape\n",
    "    classes_dict = {}\n",
    "    for x in range(num_images):\n",
    "        added = [0 , 0, 0]\n",
    "        classes = get_vals(masks[:,:,x])\n",
    "        for j in classes:\n",
    "            if not int(j) in classes_dict:\n",
    "                classes_dict[int(j)] = [[0, 0], [0, 0], [0, 0]]\n",
    "            \n",
    "            tmp, matrix_mask = apply_mask(imgs[:,:,x], masks[:,:,x], j)\n",
    "            props = glcm_properties(matrix_mask.astype(np.uint8))\n",
    "            for z in range(len(props)):\n",
    "                if isinstance(classes_dict[int(j)][z], np.ndarray):\n",
    "                    classes_dict[int(j)][z][0] += props[z]\n",
    "                    classes_dict[int(j)][z][1] += 1\n",
    "                else:\n",
    "                    added[z] += 1\n",
    "                    classes_dict[int(j)][z][0] = props[z]\n",
    "                    classes_dict[int(j)][z][1] += 1\n",
    "        \n",
    "        if x % 10 == 0:\n",
    "            print(\"{} imagenes procesadas\".format(x))\n",
    "    for id_ in classes_dict.keys():\n",
    "        for z in range(len(props)):\n",
    "            classes_dict[id_][z][0] = classes_dict[id_][z][0]/classes_dict[id_][z][1]\n",
    "    \n",
    "    return [classes_dict[id_][z][0] for x in range(len(props))]"
   ]
  },
  {
   "cell_type": "code",
   "execution_count": 33,
   "metadata": {},
   "outputs": [],
   "source": [
    "def main():\n",
    "    to_show = 3\n",
    "    imgs = nib.load(images_filename).get_fdata()\n",
    "    masks = nib.load(masks_filename).get_fdata()\n",
    "    train = training(imgs, masks)\n",
    "    print(train)\n",
    "    \"\"\"\n",
    "    #for x in range(3):\n",
    "    for x in [25, 26, 27]:\n",
    "        print(\"Image no \", x)\n",
    "        classes = get_vals(masks[:,:,x])\n",
    "        show_slice_mask(imgs[:,:,x], masks[:,:,x])\n",
    "        for j in classes:\n",
    "            tmp, matrix_mask = apply_mask(imgs[:,:,x], masks[:,:,x], j)\n",
    "            print(\"class \", j)\n",
    "            print(type(matrix_mask))\n",
    "            #show_slice_mask(tmp, masks[:,:,x])\n",
    "            show_slice_mask(tmp, matrix_mask)\n",
    "            print(glcm_properties(matrix_mask.astype(np.uint8)))\n",
    "            #create_matrix(tmp)\n",
    "        #print(get_prop(imgs[:,:,x].astype(np.uint8), masks[:,:,x].astype(np.uint8)))\n",
    "        #get_every_mask(imgs[:,:,x], masks[:,:,x])\n",
    "    \"\"\""
   ]
  },
  {
   "cell_type": "code",
   "execution_count": 34,
   "metadata": {
    "scrolled": true
   },
   "outputs": [
    {
     "output_type": "stream",
     "name": "stdout",
     "text": "0 imagenes procesadas\n10 imagenes procesadas\n20 imagenes procesadas\n30 imagenes procesadas\n40 imagenes procesadas\n50 imagenes procesadas\n60 imagenes procesadas\n70 imagenes procesadas\n80 imagenes procesadas\n90 imagenes procesadas\n[array([[537.36343685, 665.95513548, 667.22905176],\n       [659.57731933, 665.95513548, 698.54118487],\n       [651.75583795, 686.23952422, 669.89021748]]), array([[537.36343685, 665.95513548, 667.22905176],\n       [659.57731933, 665.95513548, 698.54118487],\n       [651.75583795, 686.23952422, 669.89021748]]), array([[537.36343685, 665.95513548, 667.22905176],\n       [659.57731933, 665.95513548, 698.54118487],\n       [651.75583795, 686.23952422, 669.89021748]])]\n"
    }
   ],
   "source": [
    "main()"
   ]
  }
 ],
 "metadata": {
  "kernelspec": {
   "display_name": "Python 3.8.3 64-bit",
   "language": "python",
   "name": "python38364bitcadd886fea934d5298c6bf052792e89e"
  },
  "language_info": {
   "codemirror_mode": {
    "name": "ipython",
    "version": 3
   },
   "file_extension": ".py",
   "mimetype": "text/x-python",
   "name": "python",
   "nbconvert_exporter": "python",
   "pygments_lexer": "ipython3",
   "version": "3.8.3-candidate"
  }
 },
 "nbformat": 4,
 "nbformat_minor": 4
}