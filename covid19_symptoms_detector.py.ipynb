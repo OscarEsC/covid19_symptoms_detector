{
 "cells": [
  {
   "cell_type": "code",
   "execution_count": 1,
   "metadata": {},
   "outputs": [],
   "source": [
    "# Headers\n",
    "import numpy as np\n",
    "import nibabel as nib\n",
    "import matplotlib.pyplot as plt\n",
    "from copy import deepcopy\n",
    "from skimage.feature import greycomatrix, greycoprops\n",
    "import cv2  \n",
    "from numpy.linalg import det\n",
    "from skimage import util, exposure\n",
    "from math import sqrt, ceil\n",
    "from skimage.segmentation import slic\n",
    "from skimage.segmentation import mark_boundaries\n",
    "from skimage.util import img_as_float\n",
    "from skimage import io"
   ]
  },
  {
   "cell_type": "code",
   "execution_count": 2,
   "metadata": {},
   "outputs": [],
   "source": [
    "# global variables\n",
    "black_value = np.float64(-1408.5106382978724)\n",
    "images_filename = 'tr_im.nii'\n",
    "masks_filename = 'tr_mask.nii'"
   ]
  },
  {
   "cell_type": "code",
   "execution_count": 3,
   "metadata": {},
   "outputs": [],
   "source": [
    "def get_vals(mask):\n",
    "    vals = []\n",
    "    x, y = mask.shape\n",
    "    for i in range(x):\n",
    "        for j in range(y):\n",
    "            if mask[i,j] not in vals:\n",
    "                vals.append(mask[i][j])\n",
    "\n",
    "    vals.remove(0)\n",
    "    return vals"
   ]
  },
  {
   "cell_type": "code",
   "execution_count": 4,
   "metadata": {},
   "outputs": [],
   "source": [
    "def apply_mask(img, mask, class_id):\n",
    "    heigh, width = img.shape\n",
    "    tmp = deepcopy(img)\n",
    "    lineal_array = np.array(0)\n",
    "    for x in range(heigh):\n",
    "        for y in range(width):\n",
    "            # Set pixel as black color if is not inside this mask\n",
    "            if mask[x,y] != np.float64(class_id):\n",
    "                tmp[x,y] = black_value\n",
    "            # Count pixels inside this mask\n",
    "            else:\n",
    "                lineal_array = np.append(lineal_array, tmp[x,y])\n",
    "    # In tmp is saved the image with mask applied\n",
    "    # In lineal_array is saved just the mask's pixels\n",
    "    lineal_array = np.delete(lineal_array, 0)\n",
    "    return tmp, lineal_to_matrix(lineal_array)"
   ]
  },
  {
   "cell_type": "code",
   "execution_count": 5,
   "metadata": {},
   "outputs": [],
   "source": [
    "def calculate_media_lineal_arr(array):\n",
    "    length = array.shape[0]\n",
    "    media = np.float64(0)\n",
    "    for x in range(length):\n",
    "        media += array[x]\n",
    "    media = media/length\n",
    "    return media"
   ]
  },
  {
   "cell_type": "code",
   "execution_count": 6,
   "metadata": {},
   "outputs": [],
   "source": [
    "def lineal_to_matrix(lineal_array):\n",
    "    sqrt_ = ceil(sqrt(lineal_array.shape[0]))\n",
    "    media = calculate_media_lineal_arr(lineal_array)\n",
    "    missing_values = sqrt_**2 - lineal_array.shape[0]\n",
    "    # Complete square matrix\n",
    "    for x in range(missing_values):\n",
    "        lineal_array = np.append(lineal_array, media)\n",
    "    \n",
    "    return lineal_array.reshape([sqrt_, sqrt_])"
   ]
  },
  {
   "cell_type": "code",
   "execution_count": 7,
   "metadata": {},
   "outputs": [],
   "source": [
    "def show_slice_mask(slicei, mask):\n",
    "    \"\"\" Function to display images and mask \"\"\"\n",
    "    fig, ax = plt.subplots(1,2)\n",
    "    ax[0].imshow(slicei.T,  cmap=\"gray\", origin=\"lower\")\n",
    "    ax[0].set_title('Image')\n",
    "    ax[1].imshow(mask.T, cmap=\"gray\", origin=\"lower\")\n",
    "    ax[1].set_title('Mask')\n",
    "    plt.show()"
   ]
  },
  {
   "cell_type": "code",
   "execution_count": 8,
   "metadata": {},
   "outputs": [],
   "source": [
    "def glcm_properties(image):\n",
    "    distancias = [1,2,3]\n",
    "    #0 -> Oeste a este, np.pi/4 -> diagonal hacia abajo, np.pi/2 -> Norte a sur\n",
    "    angulos = [0, np.pi/4, np.pi/2]\n",
    "\n",
    "    # Calculate properties for just one superpixel using the\n",
    "    # respective mask  \n",
    "    glcm = greycomatrix(image, \n",
    "                        distances = distancias, \n",
    "                        angles = angulos,\n",
    "                        symmetric=True, \n",
    "                        normed=True)\n",
    "    energyResults = greycoprops(glcm, 'energy')\n",
    "    #homogeneityResults = greycoprops(glcm, 'homogeneity')\n",
    "    contrastResults = greycoprops(glcm, 'contrast')\n",
    "    correlationResults = greycoprops(glcm, 'correlation')\n",
    "    #dissimilarityResults = greycoprops(glcm, 'dissimilarity')\n",
    "    \n",
    "    return [contrastResults, correlationResults, energyResults]"
   ]
  },
  {
   "cell_type": "code",
   "execution_count": 9,
   "metadata": {},
   "outputs": [],
   "source": [
    "def training(imgs, masks):\n",
    "    height, width, num_images = imgs.shape\n",
    "    # Class dictionary to store every property for this class as key\n",
    "    classes_dict = {}\n",
    "    # loop over the images\n",
    "    for x in range(num_images):\n",
    "        # Get every class in the current image\n",
    "        classes = get_vals(masks[:,:,x])\n",
    "        # loop for every class in the current image \n",
    "        for j in classes:\n",
    "            if not int(j) in classes_dict:\n",
    "                classes_dict[int(j)] = [[np.zeros((3,3)), 0], [np.zeros((3,3)), 0], [np.zeros((3,3)), 0]]\n",
    "            # getting the square matrix for the current class\n",
    "            tmp, matrix_mask = apply_mask(imgs[:,:,x], masks[:,:,x], j)\n",
    "            # Contrast, Correlation, Energy properties\n",
    "            props = glcm_properties(matrix_mask.astype(np.uint8))\n",
    "            # Adding every class's property values\n",
    "            for z in range(len(props)):\n",
    "                classes_dict[int(j)][z][0] += props[z]\n",
    "                classes_dict[int(j)][z][1] += 1\n",
    "        \n",
    "        if x+1 % 10 == 0:\n",
    "            print(\"{} imagenes procesadas\".format(x))\n",
    "\n",
    "    # Getting average for every class's property\n",
    "    for id_ in classes_dict.keys():\n",
    "        for z in range(3):\n",
    "            classes_dict[id_][z][0] = classes_dict[id_][z][0]/classes_dict[id_][z][1]\n",
    "            classes_dict[id_][z] = classes_dict[id_][z][0]\n",
    "    #0: correlation, 1: contrast, 2: energy\n",
    "    return classes_dict"
   ]
  },
  {
   "cell_type": "code",
   "execution_count": 10,
   "metadata": {},
   "outputs": [],
   "source": [
    "def main():\n",
    "    to_show = 3\n",
    "    imgs = nib.load(images_filename).get_fdata()\n",
    "    masks = nib.load(masks_filename).get_fdata()\n",
    "    train = training(imgs, masks)\n",
    "    print(train)\n",
    "    \"\"\"\n",
    "    #for x in range(3):\n",
    "    for x in [25, 26, 27]:\n",
    "        print(\"Image no \", x)\n",
    "        classes = get_vals(masks[:,:,x])\n",
    "        show_slice_mask(imgs[:,:,x], masks[:,:,x])\n",
    "        for j in classes:\n",
    "            tmp, matrix_mask = apply_mask(imgs[:,:,x], masks[:,:,x], j)\n",
    "            print(\"class \", j)\n",
    "            print(type(matrix_mask))\n",
    "            #show_slice_mask(tmp, masks[:,:,x])\n",
    "            show_slice_mask(tmp, matrix_mask)\n",
    "            print(glcm_properties(matrix_mask.astype(np.uint8)))\n",
    "            #create_matrix(tmp)\n",
    "        #print(get_prop(imgs[:,:,x].astype(np.uint8), masks[:,:,x].astype(np.uint8)))\n",
    "        #get_every_mask(imgs[:,:,x], masks[:,:,x])\n",
    "    \"\"\""
   ]
  },
  {
   "cell_type": "code",
   "execution_count": 11,
   "metadata": {
    "scrolled": true
   },
   "outputs": [
    {
     "output_type": "stream",
     "name": "stdout",
     "text": "{2: [array([[ 9385.37065772, 11163.47052478, 11186.92940868],\n       [10420.23405423, 11163.47052478, 11394.38585975],\n       [10775.21249353, 11391.17985803, 11446.06550944]]), array([[ 0.1671462 ,  0.01764346,  0.01558263],\n       [ 0.07896085,  0.01764346, -0.00284327],\n       [ 0.04724605, -0.00347878, -0.0066721 ]]), array([[0.03293342, 0.02107843, 0.02094445],\n       [0.03231313, 0.02107843, 0.01852209],\n       [0.03202098, 0.01920837, 0.01882293]])], 1: [array([[ 8532.47988509, 10981.95066758, 10982.2624071 ],\n       [10133.29681999, 10981.95066758, 11140.99894608],\n       [10550.07887752, 11088.86357162, 11139.81834338]]), array([[0.23510234, 0.01584693, 0.01607827],\n       [0.0922434 , 0.01584693, 0.00178963],\n       [0.05505664, 0.00646262, 0.00187555]]), array([[0.01731996, 0.01172741, 0.01167576],\n       [0.01682207, 0.01172741, 0.0108741 ],\n       [0.01669869, 0.01099871, 0.01092407]])], 3: [array([[10426.67756157, 12163.44708504, 12209.70068343],\n       [11870.50027707, 12163.44708504, 12351.84302926],\n       [12063.58557393, 12559.0812859 , 12216.35655949]]), array([[ 0.15937042,  0.02449751,  0.01769057],\n       [ 0.04698962,  0.02449751,  0.0087239 ],\n       [ 0.02926954, -0.00687172,  0.0299359 ]]), array([[0.05409044, 0.03662782, 0.03618415],\n       [0.05300432, 0.03662782, 0.03270835],\n       [0.05275969, 0.03360839, 0.03317584]])]}\n"
    }
   ],
   "source": [
    "main()"
   ]
  }
 ],
 "metadata": {
  "kernelspec": {
   "display_name": "Python 3.8.3 64-bit",
   "language": "python",
   "name": "python38364bitcadd886fea934d5298c6bf052792e89e"
  },
  "language_info": {
   "codemirror_mode": {
    "name": "ipython",
    "version": 3
   },
   "file_extension": ".py",
   "mimetype": "text/x-python",
   "name": "python",
   "nbconvert_exporter": "python",
   "pygments_lexer": "ipython3",
   "version": "3.8.3-candidate"
  }
 },
 "nbformat": 4,
 "nbformat_minor": 4
}